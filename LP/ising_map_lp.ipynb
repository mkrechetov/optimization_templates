{
 "cells": [
  {
   "cell_type": "code",
   "execution_count": null,
   "metadata": {},
   "outputs": [],
   "source": [
    "import numpy as np\n",
    "import networkx as nx\n",
    "import cvxpy as cp"
   ]
  },
  {
   "cell_type": "code",
   "execution_count": null,
   "metadata": {},
   "outputs": [],
   "source": [
    "def map_lp(J, h):\n",
    "    # prepare data\n",
    "    nodes = list(range(len(J)))\n",
    "    G = nx.from_numpy_matrix(J)\n",
    "    n = len(J)\n",
    "    edges = list(G.edges())\n",
    "    \n",
    "    x_beliefs = cp.Variable((len(nodes), 2), nonneg=True)\n",
    "    edge_beliefs = []\n",
    "    for edge in edges:\n",
    "        edge_beliefs.append(cp.Variable((2, 2), nonneg=True))\n",
    "\n",
    "    objective = 0\n",
    "    constraints = []\n",
    "\n",
    "    # add field\n",
    "    for node in nodes:\n",
    "        field = h[node]\n",
    "        if field <= 0:\n",
    "            objective -= field * x_beliefs[node, 1]\n",
    "            objective += field * x_beliefs[node, 0]\n",
    "        else:\n",
    "            objective += field * x_beliefs[node, 1]\n",
    "            objective -= field * x_beliefs[node, 0]\n",
    "\n",
    "    # add pairwise interactions\n",
    "    for edge in edges:\n",
    "        i = edges.index(edge)\n",
    "        a = edge[0]\n",
    "        b = edge[1]\n",
    "        objective -= J[a, b] * edge_beliefs[i][1, 1]\n",
    "        objective -= J[a, b] * edge_beliefs[i][0, 0]\n",
    "        objective += J[a, b] * edge_beliefs[i][1, 0]\n",
    "        objective += J[a, b] * edge_beliefs[i][0, 1]\n",
    "\n",
    "    # normalization constraints\n",
    "    for node in nodes:\n",
    "        constraints += [x_beliefs[node, 0] + x_beliefs[node, 1] == 1]\n",
    "    \n",
    "    # x marginalization constraints\n",
    "    for edge in edges:\n",
    "        i = edges.index(edge)\n",
    "        a = edge[0]\n",
    "        b = edge[1]\n",
    "        marginal_left_0 = edge_beliefs[i][0, 0] + edge_beliefs[i][0, 1]\n",
    "        constraints += [marginal_left_0 == x_beliefs[a, 0]]\n",
    "\n",
    "        marginal_left_1 = edge_beliefs[i][1, 0] + edge_beliefs[i][1, 1]\n",
    "        constraints += [marginal_left_1 == x_beliefs[a, 1]]\n",
    "\n",
    "        marginal_right_0 = edge_beliefs[i][0, 0] + edge_beliefs[i][1, 0]\n",
    "        constraints += [marginal_right_0 == x_beliefs[b, 0]]\n",
    "\n",
    "        marginal_right_1 = edge_beliefs[i][0, 1] + edge_beliefs[i][1, 1]\n",
    "        constraints += [marginal_right_1 == x_beliefs[b, 1]]\n",
    "\n",
    "    \n",
    "    prob = cp.Problem(cp.Minimize(objective), constraints)\n",
    "    prob.solve()  # solver=cp.SCS,eps=1e-8\n",
    "\n",
    "    return np.round(x_beliefs.value, 3)"
   ]
  },
  {
   "cell_type": "code",
   "execution_count": null,
   "metadata": {},
   "outputs": [],
   "source": []
  }
 ],
 "metadata": {
  "kernelspec": {
   "display_name": "Python 3",
   "language": "python",
   "name": "python3"
  },
  "language_info": {
   "codemirror_mode": {
    "name": "ipython",
    "version": 3
   },
   "file_extension": ".py",
   "mimetype": "text/x-python",
   "name": "python",
   "nbconvert_exporter": "python",
   "pygments_lexer": "ipython3",
   "version": "3.7.7"
  }
 },
 "nbformat": 4,
 "nbformat_minor": 1
}

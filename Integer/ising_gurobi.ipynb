{
 "cells": [
  {
   "cell_type": "code",
   "execution_count": 1,
   "metadata": {},
   "outputs": [],
   "source": [
    "import networkx as nx\n",
    "from contextlib import contextmanager\n",
    "import sys, os"
   ]
  },
  {
   "cell_type": "code",
   "execution_count": 2,
   "metadata": {},
   "outputs": [],
   "source": [
    "@contextmanager\n",
    "def suppress_stdout():\n",
    "    with open(os.devnull, \"w\") as devnull:\n",
    "        old_stdout = sys.stdout\n",
    "        sys.stdout = devnull\n",
    "        try:\n",
    "            yield\n",
    "        finally:\n",
    "            sys.stdout = old_stdout\n",
    "\n",
    "import gurobipy as gp\n",
    "from gurobipy import GRB"
   ]
  },
  {
   "cell_type": "code",
   "execution_count": null,
   "metadata": {},
   "outputs": [],
   "source": [
    "def gurobi_map_explicit(J, h, I, timelimit=60, silent=True):\n",
    "    # Prepare data\n",
    "    nodes = list(range(len(J)))\n",
    "\n",
    "    # Create a new model\"\n",
    "    m = gp.Model(\"map\")\n",
    "    if silent:\n",
    "        m.Params.LogToConsole = 0\n",
    "\n",
    "    # Create variables\n",
    "    x = []\n",
    "    for node in nodes:\n",
    "        # x[node] in {0, 1} and change of variable is required\n",
    "        x.append(m.addVar(vtype=GRB.BINARY, name=\"x_\" + str(node)))\n",
    "\n",
    "    # Set objective\n",
    "    objective = 0.0\n",
    "\n",
    "    # Add field\n",
    "    for node in nodes:\n",
    "        objective += h[node] * (2 * x[node] - 1)\n",
    "    \n",
    "    # Initialization\n",
    "    for node in I:\n",
    "        m.addConstr(x[node] == 1)\n",
    "\n",
    "    # Add pairwise interactions\n",
    "    for a in nodes:\n",
    "        for b in nodes:\n",
    "            objective += J[a, b] * (2 * x[a] - 1) * (2 * x[b] - 1) / 2\n",
    "\n",
    "    m.setObjective(objective, GRB.MAXIMIZE)\n",
    "\n",
    "    # Optimize model\n",
    "    m.Params.TimeLimit = timelimit\n",
    "    # m.setParam('OutputFlag', 0)\n",
    "    m.setParam('OptimalityTol', 0.000001)\n",
    "\n",
    "    m.optimize()\n",
    "    m.printStats()\n",
    "\n",
    "    obj = m.getObjective()\n",
    "    print(\"Energy value: \", obj.getValue())\n",
    "\n",
    "    result = []\n",
    "    vars = m.getVars()\n",
    "    for v in vars:\n",
    "        result.append(v.x)\n",
    "\n",
    "    return result"
   ]
  }
 ],
 "metadata": {
  "kernelspec": {
   "display_name": "Python 3",
   "language": "python",
   "name": "python3"
  },
  "language_info": {
   "codemirror_mode": {
    "name": "ipython",
    "version": 3
   },
   "file_extension": ".py",
   "mimetype": "text/x-python",
   "name": "python",
   "nbconvert_exporter": "python",
   "pygments_lexer": "ipython3",
   "version": "3.7.7"
  }
 },
 "nbformat": 4,
 "nbformat_minor": 1
}
